{
  "nbformat": 4,
  "nbformat_minor": 0,
  "metadata": {
    "colab": {
      "provenance": []
    },
    "kernelspec": {
      "name": "python3",
      "display_name": "Python 3"
    },
    "language_info": {
      "name": "python"
    }
  },
  "cells": [
    {
      "cell_type": "code",
      "execution_count": null,
      "metadata": {
        "id": "vByOdr2Kcgpz"
      },
      "outputs": [],
      "source": [
        "from sklearn.model_selection import train_test_split\n",
        "from sklearn.preprocessing import OneHotEncoder, StandardScaler\n",
        "from sklearn.compose import ColumnTransformer\n",
        "from sklearn.pipeline import Pipeline\n",
        "import pandas as pd"
      ]
    },
    {
      "cell_type": "code",
      "source": [
        "df= pd.read_csv('/content/event_gen_1.1.csv')\n",
        "df.info()"
      ],
      "metadata": {
        "colab": {
          "base_uri": "https://localhost:8080/"
        },
        "id": "HiLwJDX4cteG",
        "outputId": "c27ea405-f985-434f-bdd6-cb9bc661e465"
      },
      "execution_count": null,
      "outputs": [
        {
          "output_type": "stream",
          "name": "stdout",
          "text": [
            "<class 'pandas.core.frame.DataFrame'>\n",
            "RangeIndex: 281 entries, 0 to 280\n",
            "Data columns (total 14 columns):\n",
            " #   Column                Non-Null Count  Dtype  \n",
            "---  ------                --------------  -----  \n",
            " 0   Month                 281 non-null    int64  \n",
            " 1   Year                  281 non-null    int64  \n",
            " 2   Country               281 non-null    object \n",
            " 3   Latitude              281 non-null    float64\n",
            " 4   Longitude             281 non-null    float64\n",
            " 5   Purpose of gathering  281 non-null    object \n",
            " 6   Fatalities            281 non-null    int64  \n",
            " 7   Injured               281 non-null    int64  \n",
            " 8   Crowd size            281 non-null    int64  \n",
            " 9   entrance              281 non-null    int64  \n",
            " 10  exit                  281 non-null    int64  \n",
            " 11  A                     281 non-null    int64  \n",
            " 12  B                     281 non-null    int64  \n",
            " 13  other                 281 non-null    int64  \n",
            "dtypes: float64(2), int64(10), object(2)\n",
            "memory usage: 30.9+ KB\n"
          ]
        }
      ]
    },
    {
      "cell_type": "code",
      "source": [
        "df['Purpose of gathering'].unique()"
      ],
      "metadata": {
        "colab": {
          "base_uri": "https://localhost:8080/"
        },
        "id": "IeM2TJ0lcyUG",
        "outputId": "61fb7b15-a71b-4d35-fff7-4a6fa1644890"
      },
      "execution_count": null,
      "outputs": [
        {
          "output_type": "execute_result",
          "data": {
            "text/plain": [
              "array(['Religious', 'Entertainment', 'Sport', 'Other/Unknown',\n",
              "       'Political', 'Transportation', 'Educational', 'Donation',\n",
              "       'Shopping', 'Application'], dtype=object)"
            ]
          },
          "metadata": {},
          "execution_count": 22
        }
      ]
    },
    {
      "cell_type": "code",
      "source": [
        "from sklearn.preprocessing import LabelEncoder\n",
        "label_encoder = LabelEncoder()\n",
        "\n",
        "# Apply LabelEncoder to 'event type' and 'Country'\n",
        "df['Purpose of gathering'] = label_encoder.fit_transform(df['Purpose of gathering'])\n",
        "event_type_mapping = dict(zip(label_encoder.classes_, label_encoder.transform(label_encoder.classes_)))\n",
        "print(\"Event type mapping:\", event_type_mapping)\n",
        "df['Country'] = label_encoder.fit_transform(df['Country'])\n",
        "country_mapping = dict(zip(label_encoder.classes_, label_encoder.transform(label_encoder.classes_)))\n",
        "print(\"Country mapping:\", country_mapping)"
      ],
      "metadata": {
        "id": "Of5AjmKIc4gC",
        "colab": {
          "base_uri": "https://localhost:8080/"
        },
        "outputId": "baa21769-fc7f-43e7-9628-296bf3cb2303"
      },
      "execution_count": null,
      "outputs": [
        {
          "output_type": "stream",
          "name": "stdout",
          "text": [
            "Event type mapping: {'Application': 0, 'Donation': 1, 'Educational': 2, 'Entertainment': 3, 'Other/Unknown': 4, 'Political': 5, 'Religious': 6, 'Shopping': 7, 'Sport': 8, 'Transportation': 9}\n",
            "Country mapping: {'Afghanistan': 0, 'Algeria': 1, 'Angola': 2, 'Argentina': 3, 'Australia': 4, 'Austria': 5, 'Bangladesh': 6, 'Belarus': 7, 'Belgium': 8, 'Benin': 9, 'Brazil': 10, 'Bulgaria': 11, 'Burkina Faso': 12, 'Cambodia': 13, 'Cameroon': 14, 'Chile': 15, 'China': 16, 'Colombia': 17, 'DRC': 18, 'Denmark': 19, 'Egypt': 20, 'Ethiopia': 21, 'France': 22, 'Germany': 23, 'Ghana': 24, 'Greece': 25, 'Guatemala': 26, 'Guinea': 27, 'Haiti': 28, 'Honduras': 29, 'Hong Kong': 30, 'Hungary': 31, 'India': 32, 'Indonesia': 33, 'Iran': 34, 'Iraq': 35, 'Italy': 36, 'Ivory Coast': 37, 'Japan': 38, 'Kenya': 39, 'Liberia': 40, 'Madagascar': 41, 'Malawi': 42, 'Malaysia': 43, 'Mali': 44, 'Malta': 45, 'Mexico': 46, 'Morocco': 47, 'Nepal': 48, 'Netherlands': 49, 'Nigeria': 50, 'North Korea': 51, 'Pakistan': 52, 'Peru': 53, 'Philippines': 54, 'Poland': 55, 'Portugal': 56, 'Republic of the Congo': 57, 'Saudi Arabia': 58, 'Senegal': 59, 'Sierra Leone': 60, 'South Africa': 61, 'Spain': 62, 'Sri Lanka': 63, 'Syria': 64, 'Tanzania': 65, 'Togo': 66, 'Tunisia': 67, 'Turkey': 68, 'USA': 69, 'USSR': 70, 'United Kingdom': 71, 'United States': 72, 'Venezuela': 73, 'Yemen': 74, 'Zaire': 75, 'Zambia': 76, 'Zimbabwe': 77}\n"
          ]
        }
      ]
    },
    {
      "cell_type": "code",
      "source": [
        "import json\n",
        "\n",
        "\n",
        "event_type_mapping = {key: int(value) for key, value in event_type_mapping.items()}\n",
        "country_mapping = {key: int(value) for key, value in country_mapping.items()}\n",
        "\n",
        "with open('event_type_mapping.json', 'w') as f:\n",
        "    json.dump(event_type_mapping, f)\n",
        "\n",
        "with open('country_mapping.json', 'w') as f:\n",
        "    json.dump(country_mapping, f)\n",
        "\n",
        "print(\"Mappings saved as JSON!\")"
      ],
      "metadata": {
        "colab": {
          "base_uri": "https://localhost:8080/"
        },
        "id": "lJfz9xYknC3i",
        "outputId": "08b22be2-37fd-4699-c1d4-241f4c11b22b"
      },
      "execution_count": null,
      "outputs": [
        {
          "output_type": "stream",
          "name": "stdout",
          "text": [
            "Mappings saved as JSON!\n"
          ]
        }
      ]
    },
    {
      "cell_type": "code",
      "source": [
        "df.head()"
      ],
      "metadata": {
        "colab": {
          "base_uri": "https://localhost:8080/",
          "height": 261
        },
        "id": "t8stZ2czdcB4",
        "outputId": "31d699c1-e802-4c2f-cf5b-83b047bb8093"
      },
      "execution_count": null,
      "outputs": [
        {
          "output_type": "execute_result",
          "data": {
            "text/plain": [
              "   Month  Year  Country   Latitude  Longitude  Purpose of gathering  \\\n",
              "0      9  1902       69  33.513000 -86.894000                     6   \n",
              "1      1  1908       71  53.554000  -1.479000                     3   \n",
              "2     12  1913       69  47.248400 -88.455300                     3   \n",
              "3      2  1914       71  53.411389  -1.500556                     8   \n",
              "4     12  1929       71  55.846000  -4.423000                     3   \n",
              "\n",
              "   Fatalities  Injured  Crowd size  entrance   exit     A     B  other  \n",
              "0         115       80        2000       111    141   729   653    366  \n",
              "1          16       40       45492     11788  12295  7054  8352   6003  \n",
              "2          73        0       45492     13495  13311  7181  7754   3751  \n",
              "3           0       75       43000     10668   9358  9940  9619   3415  \n",
              "4          71        0         600       163    175   114   111     37  "
            ],
            "text/html": [
              "\n",
              "  <div id=\"df-e449064b-0a9f-443c-994f-dc59fd2249d3\" class=\"colab-df-container\">\n",
              "    <div>\n",
              "<style scoped>\n",
              "    .dataframe tbody tr th:only-of-type {\n",
              "        vertical-align: middle;\n",
              "    }\n",
              "\n",
              "    .dataframe tbody tr th {\n",
              "        vertical-align: top;\n",
              "    }\n",
              "\n",
              "    .dataframe thead th {\n",
              "        text-align: right;\n",
              "    }\n",
              "</style>\n",
              "<table border=\"1\" class=\"dataframe\">\n",
              "  <thead>\n",
              "    <tr style=\"text-align: right;\">\n",
              "      <th></th>\n",
              "      <th>Month</th>\n",
              "      <th>Year</th>\n",
              "      <th>Country</th>\n",
              "      <th>Latitude</th>\n",
              "      <th>Longitude</th>\n",
              "      <th>Purpose of gathering</th>\n",
              "      <th>Fatalities</th>\n",
              "      <th>Injured</th>\n",
              "      <th>Crowd size</th>\n",
              "      <th>entrance</th>\n",
              "      <th>exit</th>\n",
              "      <th>A</th>\n",
              "      <th>B</th>\n",
              "      <th>other</th>\n",
              "    </tr>\n",
              "  </thead>\n",
              "  <tbody>\n",
              "    <tr>\n",
              "      <th>0</th>\n",
              "      <td>9</td>\n",
              "      <td>1902</td>\n",
              "      <td>69</td>\n",
              "      <td>33.513000</td>\n",
              "      <td>-86.894000</td>\n",
              "      <td>6</td>\n",
              "      <td>115</td>\n",
              "      <td>80</td>\n",
              "      <td>2000</td>\n",
              "      <td>111</td>\n",
              "      <td>141</td>\n",
              "      <td>729</td>\n",
              "      <td>653</td>\n",
              "      <td>366</td>\n",
              "    </tr>\n",
              "    <tr>\n",
              "      <th>1</th>\n",
              "      <td>1</td>\n",
              "      <td>1908</td>\n",
              "      <td>71</td>\n",
              "      <td>53.554000</td>\n",
              "      <td>-1.479000</td>\n",
              "      <td>3</td>\n",
              "      <td>16</td>\n",
              "      <td>40</td>\n",
              "      <td>45492</td>\n",
              "      <td>11788</td>\n",
              "      <td>12295</td>\n",
              "      <td>7054</td>\n",
              "      <td>8352</td>\n",
              "      <td>6003</td>\n",
              "    </tr>\n",
              "    <tr>\n",
              "      <th>2</th>\n",
              "      <td>12</td>\n",
              "      <td>1913</td>\n",
              "      <td>69</td>\n",
              "      <td>47.248400</td>\n",
              "      <td>-88.455300</td>\n",
              "      <td>3</td>\n",
              "      <td>73</td>\n",
              "      <td>0</td>\n",
              "      <td>45492</td>\n",
              "      <td>13495</td>\n",
              "      <td>13311</td>\n",
              "      <td>7181</td>\n",
              "      <td>7754</td>\n",
              "      <td>3751</td>\n",
              "    </tr>\n",
              "    <tr>\n",
              "      <th>3</th>\n",
              "      <td>2</td>\n",
              "      <td>1914</td>\n",
              "      <td>71</td>\n",
              "      <td>53.411389</td>\n",
              "      <td>-1.500556</td>\n",
              "      <td>8</td>\n",
              "      <td>0</td>\n",
              "      <td>75</td>\n",
              "      <td>43000</td>\n",
              "      <td>10668</td>\n",
              "      <td>9358</td>\n",
              "      <td>9940</td>\n",
              "      <td>9619</td>\n",
              "      <td>3415</td>\n",
              "    </tr>\n",
              "    <tr>\n",
              "      <th>4</th>\n",
              "      <td>12</td>\n",
              "      <td>1929</td>\n",
              "      <td>71</td>\n",
              "      <td>55.846000</td>\n",
              "      <td>-4.423000</td>\n",
              "      <td>3</td>\n",
              "      <td>71</td>\n",
              "      <td>0</td>\n",
              "      <td>600</td>\n",
              "      <td>163</td>\n",
              "      <td>175</td>\n",
              "      <td>114</td>\n",
              "      <td>111</td>\n",
              "      <td>37</td>\n",
              "    </tr>\n",
              "  </tbody>\n",
              "</table>\n",
              "</div>\n",
              "    <div class=\"colab-df-buttons\">\n",
              "\n",
              "  <div class=\"colab-df-container\">\n",
              "    <button class=\"colab-df-convert\" onclick=\"convertToInteractive('df-e449064b-0a9f-443c-994f-dc59fd2249d3')\"\n",
              "            title=\"Convert this dataframe to an interactive table.\"\n",
              "            style=\"display:none;\">\n",
              "\n",
              "  <svg xmlns=\"http://www.w3.org/2000/svg\" height=\"24px\" viewBox=\"0 -960 960 960\">\n",
              "    <path d=\"M120-120v-720h720v720H120Zm60-500h600v-160H180v160Zm220 220h160v-160H400v160Zm0 220h160v-160H400v160ZM180-400h160v-160H180v160Zm440 0h160v-160H620v160ZM180-180h160v-160H180v160Zm440 0h160v-160H620v160Z\"/>\n",
              "  </svg>\n",
              "    </button>\n",
              "\n",
              "  <style>\n",
              "    .colab-df-container {\n",
              "      display:flex;\n",
              "      gap: 12px;\n",
              "    }\n",
              "\n",
              "    .colab-df-convert {\n",
              "      background-color: #E8F0FE;\n",
              "      border: none;\n",
              "      border-radius: 50%;\n",
              "      cursor: pointer;\n",
              "      display: none;\n",
              "      fill: #1967D2;\n",
              "      height: 32px;\n",
              "      padding: 0 0 0 0;\n",
              "      width: 32px;\n",
              "    }\n",
              "\n",
              "    .colab-df-convert:hover {\n",
              "      background-color: #E2EBFA;\n",
              "      box-shadow: 0px 1px 2px rgba(60, 64, 67, 0.3), 0px 1px 3px 1px rgba(60, 64, 67, 0.15);\n",
              "      fill: #174EA6;\n",
              "    }\n",
              "\n",
              "    .colab-df-buttons div {\n",
              "      margin-bottom: 4px;\n",
              "    }\n",
              "\n",
              "    [theme=dark] .colab-df-convert {\n",
              "      background-color: #3B4455;\n",
              "      fill: #D2E3FC;\n",
              "    }\n",
              "\n",
              "    [theme=dark] .colab-df-convert:hover {\n",
              "      background-color: #434B5C;\n",
              "      box-shadow: 0px 1px 3px 1px rgba(0, 0, 0, 0.15);\n",
              "      filter: drop-shadow(0px 1px 2px rgba(0, 0, 0, 0.3));\n",
              "      fill: #FFFFFF;\n",
              "    }\n",
              "  </style>\n",
              "\n",
              "    <script>\n",
              "      const buttonEl =\n",
              "        document.querySelector('#df-e449064b-0a9f-443c-994f-dc59fd2249d3 button.colab-df-convert');\n",
              "      buttonEl.style.display =\n",
              "        google.colab.kernel.accessAllowed ? 'block' : 'none';\n",
              "\n",
              "      async function convertToInteractive(key) {\n",
              "        const element = document.querySelector('#df-e449064b-0a9f-443c-994f-dc59fd2249d3');\n",
              "        const dataTable =\n",
              "          await google.colab.kernel.invokeFunction('convertToInteractive',\n",
              "                                                    [key], {});\n",
              "        if (!dataTable) return;\n",
              "\n",
              "        const docLinkHtml = 'Like what you see? Visit the ' +\n",
              "          '<a target=\"_blank\" href=https://colab.research.google.com/notebooks/data_table.ipynb>data table notebook</a>'\n",
              "          + ' to learn more about interactive tables.';\n",
              "        element.innerHTML = '';\n",
              "        dataTable['output_type'] = 'display_data';\n",
              "        await google.colab.output.renderOutput(dataTable, element);\n",
              "        const docLink = document.createElement('div');\n",
              "        docLink.innerHTML = docLinkHtml;\n",
              "        element.appendChild(docLink);\n",
              "      }\n",
              "    </script>\n",
              "  </div>\n",
              "\n",
              "\n",
              "<div id=\"df-0fb7f8f5-9c65-445c-8527-1c234f2e1045\">\n",
              "  <button class=\"colab-df-quickchart\" onclick=\"quickchart('df-0fb7f8f5-9c65-445c-8527-1c234f2e1045')\"\n",
              "            title=\"Suggest charts\"\n",
              "            style=\"display:none;\">\n",
              "\n",
              "<svg xmlns=\"http://www.w3.org/2000/svg\" height=\"24px\"viewBox=\"0 0 24 24\"\n",
              "     width=\"24px\">\n",
              "    <g>\n",
              "        <path d=\"M19 3H5c-1.1 0-2 .9-2 2v14c0 1.1.9 2 2 2h14c1.1 0 2-.9 2-2V5c0-1.1-.9-2-2-2zM9 17H7v-7h2v7zm4 0h-2V7h2v10zm4 0h-2v-4h2v4z\"/>\n",
              "    </g>\n",
              "</svg>\n",
              "  </button>\n",
              "\n",
              "<style>\n",
              "  .colab-df-quickchart {\n",
              "      --bg-color: #E8F0FE;\n",
              "      --fill-color: #1967D2;\n",
              "      --hover-bg-color: #E2EBFA;\n",
              "      --hover-fill-color: #174EA6;\n",
              "      --disabled-fill-color: #AAA;\n",
              "      --disabled-bg-color: #DDD;\n",
              "  }\n",
              "\n",
              "  [theme=dark] .colab-df-quickchart {\n",
              "      --bg-color: #3B4455;\n",
              "      --fill-color: #D2E3FC;\n",
              "      --hover-bg-color: #434B5C;\n",
              "      --hover-fill-color: #FFFFFF;\n",
              "      --disabled-bg-color: #3B4455;\n",
              "      --disabled-fill-color: #666;\n",
              "  }\n",
              "\n",
              "  .colab-df-quickchart {\n",
              "    background-color: var(--bg-color);\n",
              "    border: none;\n",
              "    border-radius: 50%;\n",
              "    cursor: pointer;\n",
              "    display: none;\n",
              "    fill: var(--fill-color);\n",
              "    height: 32px;\n",
              "    padding: 0;\n",
              "    width: 32px;\n",
              "  }\n",
              "\n",
              "  .colab-df-quickchart:hover {\n",
              "    background-color: var(--hover-bg-color);\n",
              "    box-shadow: 0 1px 2px rgba(60, 64, 67, 0.3), 0 1px 3px 1px rgba(60, 64, 67, 0.15);\n",
              "    fill: var(--button-hover-fill-color);\n",
              "  }\n",
              "\n",
              "  .colab-df-quickchart-complete:disabled,\n",
              "  .colab-df-quickchart-complete:disabled:hover {\n",
              "    background-color: var(--disabled-bg-color);\n",
              "    fill: var(--disabled-fill-color);\n",
              "    box-shadow: none;\n",
              "  }\n",
              "\n",
              "  .colab-df-spinner {\n",
              "    border: 2px solid var(--fill-color);\n",
              "    border-color: transparent;\n",
              "    border-bottom-color: var(--fill-color);\n",
              "    animation:\n",
              "      spin 1s steps(1) infinite;\n",
              "  }\n",
              "\n",
              "  @keyframes spin {\n",
              "    0% {\n",
              "      border-color: transparent;\n",
              "      border-bottom-color: var(--fill-color);\n",
              "      border-left-color: var(--fill-color);\n",
              "    }\n",
              "    20% {\n",
              "      border-color: transparent;\n",
              "      border-left-color: var(--fill-color);\n",
              "      border-top-color: var(--fill-color);\n",
              "    }\n",
              "    30% {\n",
              "      border-color: transparent;\n",
              "      border-left-color: var(--fill-color);\n",
              "      border-top-color: var(--fill-color);\n",
              "      border-right-color: var(--fill-color);\n",
              "    }\n",
              "    40% {\n",
              "      border-color: transparent;\n",
              "      border-right-color: var(--fill-color);\n",
              "      border-top-color: var(--fill-color);\n",
              "    }\n",
              "    60% {\n",
              "      border-color: transparent;\n",
              "      border-right-color: var(--fill-color);\n",
              "    }\n",
              "    80% {\n",
              "      border-color: transparent;\n",
              "      border-right-color: var(--fill-color);\n",
              "      border-bottom-color: var(--fill-color);\n",
              "    }\n",
              "    90% {\n",
              "      border-color: transparent;\n",
              "      border-bottom-color: var(--fill-color);\n",
              "    }\n",
              "  }\n",
              "</style>\n",
              "\n",
              "  <script>\n",
              "    async function quickchart(key) {\n",
              "      const quickchartButtonEl =\n",
              "        document.querySelector('#' + key + ' button');\n",
              "      quickchartButtonEl.disabled = true;  // To prevent multiple clicks.\n",
              "      quickchartButtonEl.classList.add('colab-df-spinner');\n",
              "      try {\n",
              "        const charts = await google.colab.kernel.invokeFunction(\n",
              "            'suggestCharts', [key], {});\n",
              "      } catch (error) {\n",
              "        console.error('Error during call to suggestCharts:', error);\n",
              "      }\n",
              "      quickchartButtonEl.classList.remove('colab-df-spinner');\n",
              "      quickchartButtonEl.classList.add('colab-df-quickchart-complete');\n",
              "    }\n",
              "    (() => {\n",
              "      let quickchartButtonEl =\n",
              "        document.querySelector('#df-0fb7f8f5-9c65-445c-8527-1c234f2e1045 button');\n",
              "      quickchartButtonEl.style.display =\n",
              "        google.colab.kernel.accessAllowed ? 'block' : 'none';\n",
              "    })();\n",
              "  </script>\n",
              "</div>\n",
              "\n",
              "    </div>\n",
              "  </div>\n"
            ],
            "application/vnd.google.colaboratory.intrinsic+json": {
              "type": "dataframe",
              "variable_name": "df",
              "summary": "{\n  \"name\": \"df\",\n  \"rows\": 281,\n  \"fields\": [\n    {\n      \"column\": \"Month\",\n      \"properties\": {\n        \"dtype\": \"number\",\n        \"std\": 3,\n        \"min\": 1,\n        \"max\": 12,\n        \"num_unique_values\": 12,\n        \"samples\": [\n          7,\n          8,\n          9\n        ],\n        \"semantic_type\": \"\",\n        \"description\": \"\"\n      }\n    },\n    {\n      \"column\": \"Year\",\n      \"properties\": {\n        \"dtype\": \"number\",\n        \"std\": 21,\n        \"min\": 1902,\n        \"max\": 2019,\n        \"num_unique_values\": 67,\n        \"samples\": [\n          1988,\n          1961,\n          1929\n        ],\n        \"semantic_type\": \"\",\n        \"description\": \"\"\n      }\n    },\n    {\n      \"column\": \"Country\",\n      \"properties\": {\n        \"dtype\": \"number\",\n        \"std\": 21,\n        \"min\": 0,\n        \"max\": 77,\n        \"num_unique_values\": 78,\n        \"samples\": [\n          26,\n          69,\n          77\n        ],\n        \"semantic_type\": \"\",\n        \"description\": \"\"\n      }\n    },\n    {\n      \"column\": \"Latitude\",\n      \"properties\": {\n        \"dtype\": \"number\",\n        \"std\": 22.688941645597613,\n        \"min\": -36.90972934,\n        \"max\": 56.075308,\n        \"num_unique_values\": 266,\n        \"samples\": [\n          -6.218572997,\n          22.11329463,\n          25.05912996\n        ],\n        \"semantic_type\": \"\",\n        \"description\": \"\"\n      }\n    },\n    {\n      \"column\": \"Longitude\",\n      \"properties\": {\n        \"dtype\": \"number\",\n        \"std\": 56.01800823620825,\n        \"min\": -111.895,\n        \"max\": 151.0667401,\n        \"num_unique_values\": 266,\n        \"samples\": [\n          106.8026252,\n          92.03153695,\n          121.5138661\n        ],\n        \"semantic_type\": \"\",\n        \"description\": \"\"\n      }\n    },\n    {\n      \"column\": \"Purpose of gathering\",\n      \"properties\": {\n        \"dtype\": \"number\",\n        \"std\": 2,\n        \"min\": 0,\n        \"max\": 9,\n        \"num_unique_values\": 10,\n        \"samples\": [\n          7,\n          3,\n          9\n        ],\n        \"semantic_type\": \"\",\n        \"description\": \"\"\n      }\n    },\n    {\n      \"column\": \"Fatalities\",\n      \"properties\": {\n        \"dtype\": \"number\",\n        \"std\": 189,\n        \"min\": 0,\n        \"max\": 2431,\n        \"num_unique_values\": 81,\n        \"samples\": [\n          8,\n          115,\n          27\n        ],\n        \"semantic_type\": \"\",\n        \"description\": \"\"\n      }\n    },\n    {\n      \"column\": \"Injured\",\n      \"properties\": {\n        \"dtype\": \"number\",\n        \"std\": 272,\n        \"min\": 0,\n        \"max\": 2300,\n        \"num_unique_values\": 92,\n        \"samples\": [\n          2300,\n          64,\n          19\n        ],\n        \"semantic_type\": \"\",\n        \"description\": \"\"\n      }\n    },\n    {\n      \"column\": \"Crowd size\",\n      \"properties\": {\n        \"dtype\": \"number\",\n        \"std\": 366581,\n        \"min\": 100,\n        \"max\": 5000000,\n        \"num_unique_values\": 81,\n        \"samples\": [\n          7000,\n          2000,\n          50000\n        ],\n        \"semantic_type\": \"\",\n        \"description\": \"\"\n      }\n    },\n    {\n      \"column\": \"entrance\",\n      \"properties\": {\n        \"dtype\": \"number\",\n        \"std\": 31803,\n        \"min\": 5,\n        \"max\": 439114,\n        \"num_unique_values\": 278,\n        \"samples\": [\n          17444,\n          92158,\n          2233\n        ],\n        \"semantic_type\": \"\",\n        \"description\": \"\"\n      }\n    },\n    {\n      \"column\": \"exit\",\n      \"properties\": {\n        \"dtype\": \"number\",\n        \"std\": 25979,\n        \"min\": 7,\n        \"max\": 258956,\n        \"num_unique_values\": 277,\n        \"samples\": [\n          18426,\n          715,\n          2874\n        ],\n        \"semantic_type\": \"\",\n        \"description\": \"\"\n      }\n    },\n    {\n      \"column\": \"A\",\n      \"properties\": {\n        \"dtype\": \"number\",\n        \"std\": 131147,\n        \"min\": 32,\n        \"max\": 1765375,\n        \"num_unique_values\": 276,\n        \"samples\": [\n          19390,\n          108004,\n          11558\n        ],\n        \"semantic_type\": \"\",\n        \"description\": \"\"\n      }\n    },\n    {\n      \"column\": \"B\",\n      \"properties\": {\n        \"dtype\": \"number\",\n        \"std\": 126794,\n        \"min\": 32,\n        \"max\": 1756218,\n        \"num_unique_values\": 275,\n        \"samples\": [\n          17829,\n          16689,\n          11462\n        ],\n        \"semantic_type\": \"\",\n        \"description\": \"\"\n      }\n    },\n    {\n      \"column\": \"other\",\n      \"properties\": {\n        \"dtype\": \"number\",\n        \"std\": 57959,\n        \"min\": 24,\n        \"max\": 780337,\n        \"num_unique_values\": 277,\n        \"samples\": [\n          6911,\n          156,\n          5467\n        ],\n        \"semantic_type\": \"\",\n        \"description\": \"\"\n      }\n    }\n  ]\n}"
            }
          },
          "metadata": {},
          "execution_count": 34
        }
      ]
    },
    {
      "cell_type": "code",
      "source": [
        "df=df.drop(['Longitude','Latitude'],axis=1)"
      ],
      "metadata": {
        "id": "hcQrbx_4ddBq"
      },
      "execution_count": null,
      "outputs": []
    },
    {
      "cell_type": "code",
      "source": [
        "df.info()"
      ],
      "metadata": {
        "colab": {
          "base_uri": "https://localhost:8080/"
        },
        "id": "yORYWku8ec6X",
        "outputId": "60cb877d-ce1e-4874-8ff8-bfd617f78011"
      },
      "execution_count": null,
      "outputs": [
        {
          "output_type": "stream",
          "name": "stdout",
          "text": [
            "<class 'pandas.core.frame.DataFrame'>\n",
            "RangeIndex: 281 entries, 0 to 280\n",
            "Data columns (total 12 columns):\n",
            " #   Column                Non-Null Count  Dtype\n",
            "---  ------                --------------  -----\n",
            " 0   Month                 281 non-null    int64\n",
            " 1   Year                  281 non-null    int64\n",
            " 2   Country               281 non-null    int64\n",
            " 3   Purpose of gathering  281 non-null    int64\n",
            " 4   Fatalities            281 non-null    int64\n",
            " 5   Injured               281 non-null    int64\n",
            " 6   Crowd size            281 non-null    int64\n",
            " 7   entrance              281 non-null    int64\n",
            " 8   exit                  281 non-null    int64\n",
            " 9   A                     281 non-null    int64\n",
            " 10  B                     281 non-null    int64\n",
            " 11  other                 281 non-null    int64\n",
            "dtypes: int64(12)\n",
            "memory usage: 26.5 KB\n"
          ]
        }
      ]
    },
    {
      "cell_type": "code",
      "source": [
        "features = ['Month', 'Year', 'Country', 'Purpose of gathering', 'Crowd size']\n",
        "targets = ['Fatalities', 'Injured', 'entrance', 'exit', 'A', 'B', 'other']"
      ],
      "metadata": {
        "id": "nkWCl-R1e4Vg"
      },
      "execution_count": null,
      "outputs": []
    },
    {
      "cell_type": "code",
      "source": [
        "X = df[features]\n",
        "y = df[targets]\n",
        "\n",
        "X_train, X_test, y_train, y_test = train_test_split(X, y, test_size=0.2, random_state=42)"
      ],
      "metadata": {
        "id": "lkdEe4dSfkgA"
      },
      "execution_count": null,
      "outputs": []
    },
    {
      "cell_type": "code",
      "source": [
        "from sklearn.linear_model import LinearRegression\n",
        "from sklearn.metrics import mean_squared_error, r2_score"
      ],
      "metadata": {
        "id": "azrBx_Mnf0C7"
      },
      "execution_count": null,
      "outputs": []
    },
    {
      "cell_type": "code",
      "source": [
        "models = {}\n",
        "predictions = {}\n",
        "\n",
        "for target in targets:\n",
        "    model = LinearRegression()\n",
        "    model.fit(X_train, y_train[target])\n",
        "    models[target] = model\n",
        "\n",
        "    y_pred = model.predict(X_test)\n",
        "    predictions[target] = y_pred\n",
        "\n",
        "    mse = mean_squared_error(y_test[target], y_pred)\n",
        "    r2 = r2_score(y_test[target], y_pred)\n",
        "\n",
        "    print(f\"Target: {target}\")\n",
        "    print(f\"Mean Squared Error: {mse:.2f}\")\n",
        "    print(f\"R^2 Score: {r2:.2f}\\n\")"
      ],
      "metadata": {
        "colab": {
          "base_uri": "https://localhost:8080/"
        },
        "id": "9x1PqjqSfuNS",
        "outputId": "f1df6dd4-f896-4a02-fe84-a9f429979121"
      },
      "execution_count": null,
      "outputs": [
        {
          "output_type": "stream",
          "name": "stdout",
          "text": [
            "Target: Fatalities\n",
            "Mean Squared Error: 4013.17\n",
            "R^2 Score: -0.15\n",
            "\n",
            "Target: Injured\n",
            "Mean Squared Error: 22686.06\n",
            "R^2 Score: -0.13\n",
            "\n",
            "Target: entrance\n",
            "Mean Squared Error: 336171479.36\n",
            "R^2 Score: 0.48\n",
            "\n",
            "Target: exit\n",
            "Mean Squared Error: 451706859.98\n",
            "R^2 Score: 0.36\n",
            "\n",
            "Target: A\n",
            "Mean Squared Error: 287483667.30\n",
            "R^2 Score: 0.74\n",
            "\n",
            "Target: B\n",
            "Mean Squared Error: 261685652.06\n",
            "R^2 Score: 0.75\n",
            "\n",
            "Target: other\n",
            "Mean Squared Error: 79171466.91\n",
            "R^2 Score: 0.64\n",
            "\n"
          ]
        }
      ]
    },
    {
      "cell_type": "code",
      "source": [
        "new_data = pd.DataFrame({\n",
        "    'Month': [9],\n",
        "    'Year': [2024],\n",
        "    'Country': [70],\n",
        "    'Purpose of gathering': [0],\n",
        "    'Crowd size': [10000]\n",
        "})\n"
      ],
      "metadata": {
        "id": "ivYtkAUXgbbt"
      },
      "execution_count": null,
      "outputs": []
    },
    {
      "cell_type": "code",
      "source": [
        "predictions_new = {}\n",
        "\n",
        "for target, model in models.items():\n",
        "    predictions_new[target] = model.predict(new_data)[0]\n",
        "\n",
        "print(predictions_new)"
      ],
      "metadata": {
        "colab": {
          "base_uri": "https://localhost:8080/"
        },
        "id": "hVvFNSjngraf",
        "outputId": "450f958d-9021-4025-bc70-aca15ba77676"
      },
      "execution_count": null,
      "outputs": [
        {
          "output_type": "stream",
          "name": "stdout",
          "text": [
            "{'Fatalities': 53.21722782746099, 'Injured': -104.09028977640673, 'entrance': 1368.4610406721768, 'exit': 3709.690676675178, 'A': 1574.6156730921357, 'B': 1781.8796211289591, 'other': 1565.3529884337331}\n"
          ]
        }
      ]
    },
    {
      "cell_type": "code",
      "source": [
        "import joblib\n",
        "\n",
        "for target, model in models.items():\n",
        "    joblib.dump(model, f'{target}_model.joblib')\n",
        "    print(f\"Saved model for {target} to {target}_model.joblib\")\n"
      ],
      "metadata": {
        "colab": {
          "base_uri": "https://localhost:8080/"
        },
        "id": "xUzHndsghLzz",
        "outputId": "413cc5e5-6ce2-425a-fa3a-fc8ca4c433a0"
      },
      "execution_count": null,
      "outputs": [
        {
          "output_type": "stream",
          "name": "stdout",
          "text": [
            "Saved model for Fatalities to Fatalities_model.joblib\n",
            "Saved model for Injured to Injured_model.joblib\n",
            "Saved model for entrance to entrance_model.joblib\n",
            "Saved model for exit to exit_model.joblib\n",
            "Saved model for A to A_model.joblib\n",
            "Saved model for B to B_model.joblib\n",
            "Saved model for other to other_model.joblib\n"
          ]
        }
      ]
    },
    {
      "cell_type": "markdown",
      "source": [
        "**New set of models**"
      ],
      "metadata": {
        "id": "C4b71wtNhHr_"
      }
    },
    {
      "cell_type": "code",
      "source": [
        "from sklearn.model_selection import train_test_split\n",
        "\n",
        "# Features (independent variables)\n",
        "X = df.drop(columns=['Fatalities', 'Injured'])\n",
        "\n",
        "# Target variables (dependent variables)\n",
        "y_fatalities = df['Fatalities']\n",
        "y_injured = df['Injured']\n",
        "\n",
        "# Splitting the data\n",
        "X_train, X_test, y_train_fatalities, y_test_fatalities = train_test_split(X, y_fatalities, test_size=0.2, random_state=42)\n",
        "X_train, X_test, y_train_injured, y_test_injured = train_test_split(X, y_injured, test_size=0.2, random_state=42)\n"
      ],
      "metadata": {
        "id": "mhi15YIihLX0"
      },
      "execution_count": null,
      "outputs": []
    },
    {
      "cell_type": "code",
      "source": [
        "from sklearn.linear_model import LinearRegression\n",
        "from sklearn.metrics import mean_squared_error, r2_score\n",
        "\n",
        "# Model for Fatalities\n",
        "model_fatalities = LinearRegression()\n",
        "model_fatalities.fit(X_train, y_train_fatalities)\n",
        "\n",
        "# Predict on the test set\n",
        "y_pred_fatalities = model_fatalities.predict(X_test)\n",
        "\n",
        "# Evaluate\n",
        "mse_fatalities = mean_squared_error(y_test_fatalities, y_pred_fatalities)\n",
        "r2_fatalities = r2_score(y_test_fatalities, y_pred_fatalities)\n",
        "\n",
        "print(f'Fatalities - MSE: {mse_fatalities}, R2 Score: {r2_fatalities}')"
      ],
      "metadata": {
        "colab": {
          "base_uri": "https://localhost:8080/"
        },
        "id": "IxFer4v0hOtA",
        "outputId": "65b192fd-5cb1-4584-81a3-6effdc2c569d"
      },
      "execution_count": null,
      "outputs": [
        {
          "output_type": "stream",
          "name": "stdout",
          "text": [
            "Fatalities - MSE: 5502.764440868818, R2 Score: -0.5781827948974458\n"
          ]
        }
      ]
    },
    {
      "cell_type": "code",
      "source": [
        "# Example new event details\n",
        "new_event = {\n",
        "    'Month': 9,\n",
        "    'Year': 2024,\n",
        "    'Country': 70,\n",
        "    'Purpose of gathering': 0,\n",
        "    'Crowd size': 10000,\n",
        "    'entrance': 3,\n",
        "    'exit': 2,\n",
        "    'A': 1,\n",
        "    'B': 2,\n",
        "    'other': 1\n",
        "}\n",
        "\n",
        "\n",
        "new_event_df = pd.DataFrame([new_event])\n",
        "new_event_encoded = pd.get_dummies(new_event_df, columns=['Country', 'Purpose of gathering'])\n",
        "new_event_encoded = new_event_encoded.reindex(columns=X.columns, fill_value=0)\n",
        "predicted_fatalities = model_fatalities.predict(new_event_encoded)\n",
        "print(f\"Predicted Fatalities: {predicted_fatalities[0]}\")"
      ],
      "metadata": {
        "colab": {
          "base_uri": "https://localhost:8080/"
        },
        "id": "cJNMpG5fh6Sf",
        "outputId": "a001dd4c-5b8b-4ead-d49c-638c570aaf4e"
      },
      "execution_count": null,
      "outputs": [
        {
          "output_type": "stream",
          "name": "stdout",
          "text": [
            "Predicted Fatalities: 17.787709570832362\n"
          ]
        }
      ]
    }
  ]
}